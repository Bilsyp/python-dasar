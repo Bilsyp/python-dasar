{
 "cells": [
  {
   "cell_type": "code",
   "execution_count": 2,
   "id": "aa2a83e2",
   "metadata": {},
   "outputs": [
    {
     "name": "stdout",
     "output_type": "stream",
     "text": [
      "Type Number :3\n",
      "Your number is 3\n",
      "Make a guess:1\n",
      "You were above the number\n",
      "Make a guess:2\n",
      "You were above the number\n",
      "Make a guess:3\n",
      "You were above the number\n",
      "Make a guess:4\n",
      "You were above the number\n",
      "Make a guess:3\n",
      "You were above the number\n",
      "Make a guess:2\n",
      "You were above the number\n",
      "Make a guess:1\n",
      "You were above the number\n",
      "Make a guess:1\n",
      "You were above the number\n",
      "Make a guess:1\n",
      "You were above the number\n",
      "Make a guess:2\n",
      "You were above the number\n",
      "Make a guess:3\n",
      "You were above the number\n",
      "Make a guess:0\n",
      "You got it\n",
      "You got it in 12  guesses\n"
     ]
    }
   ],
   "source": [
    "import random\n",
    "\n",
    "r = random.randrange(1,11)  # mengocok angka dari 1 - 10 Batas limit 11\n",
    "# i = random.randint(11)\n",
    "\n",
    "top_of_range = input(\"Type Number :\")\n",
    "\n",
    "if(top_of_range.isdigit()):\n",
    "    top_of_range = int(top_of_range);\n",
    "    \n",
    "    \n",
    "    print(\"Your number is \" + str(top_of_range))\n",
    "\n",
    "    if(top_of_range <= 0 ):\n",
    "        print(\"Please type a number larger than 0 next time.\")\n",
    "        quit()\n",
    "else:\n",
    "    print(\"Please type a number next time -_-\")\n",
    "    quit()\n",
    "    \n",
    "random_number = random.randint(0,top_of_range)\n",
    "guess = 0\n",
    "while True:\n",
    "    guess += 1\n",
    "    user_guess = input(\"Make a guess:\")\n",
    "    if(user_guess.isdigit()):\n",
    "        user_guess = int(user_guess)\n",
    "    else:\n",
    "        print(\"Please type a number next time\")\n",
    "        continue\n",
    "    if(user_guess == random_number):\n",
    "        \n",
    "        print(\"You got it\")\n",
    "        break\n",
    "    else:\n",
    "        if user_guess > random_number:\n",
    "            print(\"You were above the number\")\n",
    "        else:\n",
    "            print(\"You were belowe the number\")\n",
    "print(\"You got it in\", guess,\" guesses\")        \n"
   ]
  },
  {
   "cell_type": "code",
   "execution_count": null,
   "id": "3c470abb",
   "metadata": {},
   "outputs": [],
   "source": [
    "print(\"ds\")\n"
   ]
  }
 ],
 "metadata": {
  "kernelspec": {
   "display_name": "Python 3 (ipykernel)",
   "language": "python",
   "name": "python3"
  },
  "language_info": {
   "codemirror_mode": {
    "name": "ipython",
    "version": 3
   },
   "file_extension": ".py",
   "mimetype": "text/x-python",
   "name": "python",
   "nbconvert_exporter": "python",
   "pygments_lexer": "ipython3",
   "version": "3.10.9"
  }
 },
 "nbformat": 4,
 "nbformat_minor": 5
}
